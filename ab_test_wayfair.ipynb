{
 "cells": [
  {
   "cell_type": "code",
   "execution_count": 1,
   "metadata": {},
   "outputs": [],
   "source": [
    "import math as mt\n",
    "import numpy as np\n",
    "import pandas as pd\n",
    "from scipy.stats import norm"
   ]
  },
  {
   "cell_type": "markdown",
   "metadata": {},
   "source": [
    "### 1 Experiment Overview \n",
    "Experiment Name: \"QuickView button\" Screener.\n",
    "This experiment is to maximize the user's access to the product details page and complete the purchase\n",
    "https://www.wayfair.com/furniture/sb0/bedroom-sets-c46123.html\n",
    "\n",
    "The general process is as follows：\n",
    "\n",
    "1. **choose a metric**\n",
    "2. **review statistics**\n",
    "3. **design**\n",
    "4. **analyse**\n",
    "\n",
    "\n",
    "#### 1.1 Description of Experimented Change\n",
    "\n",
    "* At the shop list view on **wayfair shopping site** , it provides two card display modes: one is when there is a quick view button when the mouse is hovered over, and one is not.\n",
    "    <figure class=\"two\">\n",
    "        <img src=\"img/1.png\" width=\"40%\">\n",
    "        <img src=\"img/2.png\" width=\"40%\">\n",
    "    </figure>\n",
    "    \n",
    "* When users encounter a quick view button, they can click and view the details && specific sku information to  customize combinations, providing them with more information whether they enter the next detail page.\n",
    "* Users without quick view button need to click directly to see detailed sku information\n",
    "* <figure class=\"two\">\n",
    "        <img src=\"img/3.png\" width=\"40%\">\n",
    "        <img src=\"img/4.png\" width=\"40%\">\n",
    "    </figure>\n",
    "\n",
    "#### 1.2 Experiment Hypothesis \n",
    "The hypothesis is that this can provide users with more information about deciding whether or not to make a final purchase, thereby reducing the number of situations where there is insufficient information and one more click to enter the details to opt out without buying. The quick view button can significantly increase the conversion rate of the product detail page, improve the user's buying law, and optimize the user experience.\n",
    "\n",
    "#### 1.3 Experiment Details ¶\n",
    "The unit of diversion is a cookie. For users that do not enroll, their user-id is not tracked in the experiment, even if they were signed in when they visited the course overview page.\n",
    "\n",
    "\n",
    "### 2 Metric Choice \n",
    "> We need two types of metrics for a successful experiment (or at least, a safe one); Invariate and evaluation metrics. Invariate metrics are used for \"sanity checks\", that is, to make sure our experiment (the way we presented a change to a part of the population, as well as the way we collected the data) is not inherently wrong. Basically, this means we pick metrics which we consider not to change (not to be affected) because of our experiment and later make sure these metrics don't change drastically between our control and experiment groups.\n",
    "Evaluation metrics on the other hand, are the metrics in which we expect to see a change, and are relevant to the business goals we aim to achieve. For each metric we state a  **Dmin**  - which marks the minimum change which is practically significant to the business. For instance, stating that any increase in retention that is under 2%, even if statistically significant, is not practical to the business.  -- from the course [A/B_testing](https://en.wikipedia.org/wiki/A/B_testing)\n",
    "\n"
   ]
  },
  {
   "cell_type": "markdown",
   "metadata": {},
   "source": [
    "#### 2.1 Invariate Metrics - Sanity Checks\n",
    "\n",
    "| Metric Name  | Metric Formula  | $Dmin$  | Notation |\n",
    "|:-:|:-:|:-:|:-:|\n",
    "| Number of Cookies in goods detail Page  | # unique daily cookies on page | 3000 cookies  | $C_k$ |\n",
    "| Number of Clicks on quick view Button  | # unique daily cookies who clicked  | 240 clicks | $C_l$ |\n",
    "| Quick view button Click-Through-Probability  | $\\frac{C_l}{C_k}$ | 0.01  | $CTP$ | \n",
    "\n",
    "#### 2.2 Evaluation Metrics - Performance Indicators\n",
    "| Metric Name  | Metric Formula  | $Dmin$  | Notation |\n",
    "|:-:|:-:|:-:|:-:|\n",
    "| Gross Conversion   |  $\\frac{enrolled}{C_l}$  | 0.01  | $Conversion_{Gross}$ |\n",
    "| Retention   | $\\frac{paid}{enrolled}$  | 0.01  | $Retention$ |\n",
    "| Net Conversion  |  $\\frac{paid}{C_l}$  | 0.0075 | $Conversion_{Net}$ |\n"
   ]
  },
  {
   "cell_type": "markdown",
   "metadata": {},
   "source": [
    "### 3 Design\n",
    "Referring to the basic data given by Udacity, when abtesting the wayfair company, we can arrange buried points for engineers to obtain the corresponding data according to the corresponding ideas. Now I temporarily construct some virtual data.\n",
    "\n",
    "\n",
    "| Item | Description  | Estimator  |\n",
    "|:-:|:-:|:-:|\n",
    "| Number of cookies | Daily unique cookies to view course overview page  | 100,000  |\n",
    "| Number of clicks | Daily unique cookies to click Quick view button  | 5,000 |\n",
    "| Number of enrollments | Quick view enrollments per day  | 800  |\n",
    "| CTP | CTP on Quick view button  | 0.05  |\n",
    "| Gross Conversion | Probability of enrolling, given a click  | 0.20625  |\n",
    "| Retention | Probability of payment, given enrollment  | 0.53  |\n",
    "| Net Conversion | Probability of payment, given click  | 0.109313 |\n"
   ]
  },
  {
   "cell_type": "code",
   "execution_count": 2,
   "metadata": {},
   "outputs": [],
   "source": [
    "#Let's place this estimators into a dictionary for ease of use later\n",
    "base_line = {\"Cookies\":100000,\"Clicks\":5000,\"Enrollments\":800,\"CTP\":0.05,\"GrossConversion\":0.16,\n",
    "           \"Retention\":0.53,\"NetConversion\":0.109313}"
   ]
  },
  {
   "cell_type": "code",
   "execution_count": 3,
   "metadata": {},
   "outputs": [
    {
     "data": {
      "text/plain": [
       "{'Cookies': 10000,\n",
       " 'Clicks': 500.0,\n",
       " 'Enrollments': 80.0,\n",
       " 'CTP': 0.05,\n",
       " 'GrossConversion': 0.16,\n",
       " 'Retention': 0.53,\n",
       " 'NetConversion': 0.109313}"
      ]
     },
     "execution_count": 3,
     "metadata": {},
     "output_type": "execute_result"
    }
   ],
   "source": [
    "#Scale The counts estimates\n",
    "#In this case, from 100000 unique cookies to visit the course overview page per day, to 5000.\n",
    "base_line[\"Cookies\"] = 10000\n",
    "base_line[\"Clicks\"]=base_line[\"Clicks\"]*(10000/100000)\n",
    "base_line[\"Enrollments\"]=base_line[\"Enrollments\"]*(10000/100000)\n",
    "base_line"
   ]
  },
  {
   "cell_type": "code",
   "execution_count": null,
   "metadata": {},
   "outputs": [],
   "source": []
  },
  {
   "cell_type": "markdown",
   "metadata": {},
   "source": [
    "These three indicators refer to the three evaluation indicators in the Udacity case and are also applicable in our wayfair case.\n",
    "* **Gross Conversion** - The baseline probability for Gross Conversion can be calculated by the number of users to enroll  by the number of cookies clicking the qucik view. In other words, the probability of enrollment given a click. In this case, the unit of diversion (Cookies), that is the element by which we differentiate samples and assign them to control and experiment groups, is equall to the unit of analysis (cookies who click), that is the denominator of the formula to calculate Gross Conversion (GC). When this is the case, this analytic estimate of variance is sufficient.\n",
    "* **Retention** - The baseline probability for retention is the number of paying users (pay by clicking the quick view btn) divided by the number of total enrolled users. In other words, the probability of payment, given enrollment. The sample size is the number of enrolled users. In this case, unit of diversion is not equal to unit of analysis (users who enrolled) so an analytical estimation is not enough - if we had the data for these estimates, we would want to estimate this variance empirically as well.\n",
    "* **Net Conversion** - The baseline probability for the net conversion is the number of paying users divided by the number of cookies that clicked the quick view button. In other words, the probability of payment, given a click. The sample size is the number of cookies that clicked. In this case, the unit of analysis and diversion are equal so we expect a good enough estimation analytically."
   ]
  },
  {
   "cell_type": "code",
   "execution_count": null,
   "metadata": {},
   "outputs": [],
   "source": []
  },
  {
   "cell_type": "code",
   "execution_count": 4,
   "metadata": {},
   "outputs": [
    {
     "name": "stdout",
     "output_type": "stream",
     "text": [
      "GC_INFO['std'] = 0.0164\n",
      "R_INFO['std'] = 0.0558\n",
      "NC_INFO['std'] = 0.014\n"
     ]
    }
   ],
   "source": [
    "# Let's get the p and n we need for Gross Conversion (GC)\n",
    "# and compute the Stansard Deviation(sd) rounded to 4 decimal digits.\n",
    "GC_INFO={}\n",
    "GC_INFO[\"d_min\"]=0.01\n",
    "GC_INFO[\"p\"]=base_line[\"GrossConversion\"]\n",
    "#p is given in this case - or we could calculate it from enrollments/clicks\n",
    "GC_INFO[\"n\"]=base_line[\"Clicks\"]\n",
    "GC_INFO[\"std\"]=round(mt.sqrt((GC_INFO[\"p\"]*(1-GC_INFO[\"p\"]))/GC_INFO[\"n\"]),4)\n",
    "print(\"GC_INFO['std'] = {}\".format(GC_INFO[\"std\"]))\n",
    "\n",
    "# Let's get the p and n we need for Retention(R)\n",
    "# and compute the Stansard Deviation(sd) rounded to 4 decimal digits.\n",
    "R_INFO={}\n",
    "R_INFO[\"d_min\"]=0.01\n",
    "R_INFO[\"p\"]=base_line[\"Retention\"]\n",
    "R_INFO[\"n\"]=base_line[\"Enrollments\"]\n",
    "R_INFO[\"std\"]=round(mt.sqrt((R_INFO[\"p\"]*(1-R_INFO[\"p\"]))/R_INFO[\"n\"]),4)\n",
    "print(\"R_INFO['std'] = {}\".format(R_INFO[\"std\"]))\n",
    "\n",
    "# Let's get the p and n we need for Net Conversion (NC)\n",
    "# and compute the Standard Deviation (sd) rounded to 4 decimal digits.\n",
    "NC_INFO={}\n",
    "NC_INFO[\"d_min\"]=0.0075\n",
    "NC_INFO[\"p\"]=base_line[\"NetConversion\"]\n",
    "NC_INFO[\"n\"]=base_line[\"Clicks\"]\n",
    "NC_INFO[\"std\"]=round(mt.sqrt((NC_INFO[\"p\"]*(1-NC_INFO[\"p\"]))/NC_INFO[\"n\"]),4)\n",
    "print(\"NC_INFO['std'] = {}\".format(NC_INFO[\"std\"]))"
   ]
  },
  {
   "cell_type": "markdown",
   "metadata": {},
   "source": [
    "Given $\\alpha=0.05$ (significance level ) and $\\beta=0.2$ (power), we want to estimate how many total pageviews (cookies who viewed the course overview page) we need in the experiment. This amount will be divided into tthe two groups: control and experiment. This calculation can be done using an [online calculator](http://www.evanmiller.org/ab-testing/sample-size.html) or by calculating directly using the required formula.\n",
    "<figure class=\"two\">\n",
    "        <img src=\"img/5.png\" width=\"40%\">\n",
    "        <img src=\"img/6.png\" width=\"40%\">\n",
    "</figure>"
   ]
  },
  {
   "cell_type": "code",
   "execution_count": null,
   "metadata": {},
   "outputs": [],
   "source": []
  },
  {
   "cell_type": "code",
   "execution_count": 5,
   "metadata": {},
   "outputs": [],
   "source": [
    "\n",
    "def get_z_score(alpha):\n",
    "    return norm.ppf(alpha)\n",
    "\n",
    "\n",
    "def get_sds(p,d):\n",
    "    sd1=mt.sqrt(2*p*(1-p))\n",
    "    sd2=mt.sqrt(p*(1-p)+(p+d)*(1-(p+d)))\n",
    "    sds=[sd1,sd2]\n",
    "    return sds\n",
    "\n",
    "def get_sample_size(sds,alpha,beta,d):\n",
    "    n=pow((get_z_score(1-alpha/2)*sds[0]+get_z_score(1-beta)*sds[1]),2)/pow(d,2)\n",
    "    return n"
   ]
  },
  {
   "cell_type": "code",
   "execution_count": 6,
   "metadata": {},
   "outputs": [],
   "source": [
    "GC_INFO[\"d\"]=0.01\n",
    "R_INFO[\"d\"]=0.01\n",
    "NC_INFO[\"d\"]=0.0075"
   ]
  },
  {
   "cell_type": "code",
   "execution_count": 7,
   "metadata": {},
   "outputs": [
    {
     "data": {
      "text/plain": [
       "21255.0"
      ]
     },
     "execution_count": 7,
     "metadata": {},
     "output_type": "execute_result"
    }
   ],
   "source": [
    "# Let's get an integer value for simplicity\n",
    "GC_INFO[\"SampSize\"]=round(get_sample_size(get_sds(GC_INFO[\"p\"],GC_INFO[\"d\"]),0.05,0.2,GC_INFO[\"d\"]))\n",
    "GC_INFO[\"SampSize\"]"
   ]
  },
  {
   "cell_type": "code",
   "execution_count": 8,
   "metadata": {},
   "outputs": [
    {
     "data": {
      "text/plain": [
       "531375.0"
      ]
     },
     "execution_count": 8,
     "metadata": {},
     "output_type": "execute_result"
    }
   ],
   "source": [
    "GC_INFO[\"SampSize\"]=round(GC_INFO[\"SampSize\"]/0.08*2)\n",
    "GC_INFO[\"SampSize\"]"
   ]
  },
  {
   "cell_type": "code",
   "execution_count": 9,
   "metadata": {},
   "outputs": [
    {
     "data": {
      "text/plain": [
       "39087.0"
      ]
     },
     "execution_count": 9,
     "metadata": {},
     "output_type": "execute_result"
    }
   ],
   "source": [
    "# Getting a nice integer value\n",
    "R_INFO[\"SampSize\"]=round(get_sample_size(get_sds(R_INFO[\"p\"],R_INFO[\"d\"]),0.05,0.2,R_INFO[\"d\"]))\n",
    "R_INFO[\"SampSize\"]"
   ]
  },
  {
   "cell_type": "code",
   "execution_count": 10,
   "metadata": {},
   "outputs": [
    {
     "data": {
      "text/plain": [
       "6107343.75"
      ]
     },
     "execution_count": 10,
     "metadata": {},
     "output_type": "execute_result"
    }
   ],
   "source": [
    "R_INFO[\"SampSize\"]=R_INFO[\"SampSize\"]/0.08/0.16*2\n",
    "R_INFO[\"SampSize\"]"
   ]
  },
  {
   "cell_type": "code",
   "execution_count": 11,
   "metadata": {},
   "outputs": [
    {
     "data": {
      "text/plain": [
       "27413.0"
      ]
     },
     "execution_count": 11,
     "metadata": {},
     "output_type": "execute_result"
    }
   ],
   "source": [
    "# Getting a nice integer value\n",
    "NC_INFO[\"SampSize\"]=round(get_sample_size(get_sds(NC_INFO[\"p\"],NC_INFO[\"d\"]),0.05,0.2,NC_INFO[\"d\"]))\n",
    "NC_INFO[\"SampSize\"]"
   ]
  },
  {
   "cell_type": "code",
   "execution_count": 12,
   "metadata": {},
   "outputs": [
    {
     "data": {
      "text/plain": [
       "685325.0"
      ]
     },
     "execution_count": 12,
     "metadata": {},
     "output_type": "execute_result"
    }
   ],
   "source": [
    "NC_INFO[\"SampSize\"]=NC_INFO[\"SampSize\"]/0.08*2\n",
    "NC_INFO[\"SampSize\"]"
   ]
  },
  {
   "cell_type": "markdown",
   "metadata": {},
   "source": [
    "### Analyse"
   ]
  },
  {
   "cell_type": "code",
   "execution_count": 13,
   "metadata": {},
   "outputs": [
    {
     "data": {
      "text/html": [
       "<div>\n",
       "<style scoped>\n",
       "    .dataframe tbody tr th:only-of-type {\n",
       "        vertical-align: middle;\n",
       "    }\n",
       "\n",
       "    .dataframe tbody tr th {\n",
       "        vertical-align: top;\n",
       "    }\n",
       "\n",
       "    .dataframe thead th {\n",
       "        text-align: right;\n",
       "    }\n",
       "</style>\n",
       "<table border=\"1\" class=\"dataframe\">\n",
       "  <thead>\n",
       "    <tr style=\"text-align: right;\">\n",
       "      <th></th>\n",
       "      <th>Date</th>\n",
       "      <th>Pageviews</th>\n",
       "      <th>Clicks</th>\n",
       "      <th>Enrollments</th>\n",
       "      <th>Payments</th>\n",
       "    </tr>\n",
       "  </thead>\n",
       "  <tbody>\n",
       "    <tr>\n",
       "      <th>0</th>\n",
       "      <td>Sat, Oct 11</td>\n",
       "      <td>10398</td>\n",
       "      <td>673</td>\n",
       "      <td>231.0</td>\n",
       "      <td>109.0</td>\n",
       "    </tr>\n",
       "    <tr>\n",
       "      <th>1</th>\n",
       "      <td>Sun, Oct 12</td>\n",
       "      <td>11118</td>\n",
       "      <td>735</td>\n",
       "      <td>197.0</td>\n",
       "      <td>84.0</td>\n",
       "    </tr>\n",
       "    <tr>\n",
       "      <th>2</th>\n",
       "      <td>Mon, Oct 13</td>\n",
       "      <td>10440</td>\n",
       "      <td>943</td>\n",
       "      <td>179.0</td>\n",
       "      <td>148.0</td>\n",
       "    </tr>\n",
       "    <tr>\n",
       "      <th>3</th>\n",
       "      <td>Tue, Oct 14</td>\n",
       "      <td>10476</td>\n",
       "      <td>662</td>\n",
       "      <td>234.0</td>\n",
       "      <td>57.0</td>\n",
       "    </tr>\n",
       "    <tr>\n",
       "      <th>4</th>\n",
       "      <td>Wed, Oct 15</td>\n",
       "      <td>10302</td>\n",
       "      <td>722</td>\n",
       "      <td>136.0</td>\n",
       "      <td>120.0</td>\n",
       "    </tr>\n",
       "    <tr>\n",
       "      <th>5</th>\n",
       "      <td>Thu, Oct 16</td>\n",
       "      <td>11734</td>\n",
       "      <td>863</td>\n",
       "      <td>137.0</td>\n",
       "      <td>84.0</td>\n",
       "    </tr>\n",
       "    <tr>\n",
       "      <th>6</th>\n",
       "      <td>Fri, Oct 17</td>\n",
       "      <td>9572</td>\n",
       "      <td>726</td>\n",
       "      <td>219.0</td>\n",
       "      <td>114.0</td>\n",
       "    </tr>\n",
       "    <tr>\n",
       "      <th>7</th>\n",
       "      <td>Sat, Oct 18</td>\n",
       "      <td>11080</td>\n",
       "      <td>636</td>\n",
       "      <td>122.0</td>\n",
       "      <td>58.0</td>\n",
       "    </tr>\n",
       "    <tr>\n",
       "      <th>8</th>\n",
       "      <td>Sun, Oct 19</td>\n",
       "      <td>10933</td>\n",
       "      <td>720</td>\n",
       "      <td>228.0</td>\n",
       "      <td>137.0</td>\n",
       "    </tr>\n",
       "    <tr>\n",
       "      <th>9</th>\n",
       "      <td>Mon, Oct 20</td>\n",
       "      <td>10501</td>\n",
       "      <td>859</td>\n",
       "      <td>237.0</td>\n",
       "      <td>104.0</td>\n",
       "    </tr>\n",
       "  </tbody>\n",
       "</table>\n",
       "</div>"
      ],
      "text/plain": [
       "          Date  Pageviews  Clicks  Enrollments  Payments\n",
       "0  Sat, Oct 11      10398     673        231.0     109.0\n",
       "1  Sun, Oct 12      11118     735        197.0      84.0\n",
       "2  Mon, Oct 13      10440     943        179.0     148.0\n",
       "3  Tue, Oct 14      10476     662        234.0      57.0\n",
       "4  Wed, Oct 15      10302     722        136.0     120.0\n",
       "5  Thu, Oct 16      11734     863        137.0      84.0\n",
       "6  Fri, Oct 17       9572     726        219.0     114.0\n",
       "7  Sat, Oct 18      11080     636        122.0      58.0\n",
       "8  Sun, Oct 19      10933     720        228.0     137.0\n",
       "9  Mon, Oct 20      10501     859        237.0     104.0"
      ]
     },
     "execution_count": 13,
     "metadata": {},
     "output_type": "execute_result"
    }
   ],
   "source": [
    "# we use pandas to load datasets\n",
    "control=pd.read_csv(\"data/Control.csv\")\n",
    "experiment=pd.read_csv(\"data/Experiment.csv\")\n",
    "control.head(10)"
   ]
  },
  {
   "cell_type": "code",
   "execution_count": 14,
   "metadata": {},
   "outputs": [
    {
     "name": "stdout",
     "output_type": "stream",
     "text": [
      "number of pageviews in control: 383184\n",
      "number of Pageviewsin experiment: 386149\n"
     ]
    }
   ],
   "source": [
    "pageviews_cont=control['Pageviews'].sum()\n",
    "pageviews_exp=experiment['Pageviews'].sum()\n",
    "pageviews_total=pageviews_cont+pageviews_exp\n",
    "print (\"number of pageviews in control:\", pageviews_cont)\n",
    "print (\"number of Pageviews in experiment:\" ,pageviews_exp)"
   ]
  },
  {
   "cell_type": "code",
   "execution_count": null,
   "metadata": {},
   "outputs": [],
   "source": []
  },
  {
   "cell_type": "code",
   "execution_count": 15,
   "metadata": {},
   "outputs": [
    {
     "name": "stdout",
     "output_type": "stream",
     "text": [
      "The confidence interval is between 0.4989 and 0.5011 ; Is 0.4981 inside this range?\n"
     ]
    }
   ],
   "source": [
    "p=0.5\n",
    "alpha=0.05\n",
    "p_hat=round(pageviews_cont/(pageviews_total),4)\n",
    "sd=mt.sqrt(p*(1-p)/(pageviews_total))\n",
    "ME=round(get_z_score(1-(alpha/2))*sd,4)\n",
    "print (\"The confidence interval is between\",p-ME,\"and\",p+ME,\"; Is\",p_hat,\"inside this range?\")"
   ]
  },
  {
   "cell_type": "code",
   "execution_count": 16,
   "metadata": {},
   "outputs": [
    {
     "name": "stdout",
     "output_type": "stream",
     "text": [
      "The confidence interval is between 0.4959 and 0.5041 ; Is 0.4978 inside this range?\n"
     ]
    }
   ],
   "source": [
    "clicks_cont=control['Clicks'].sum()\n",
    "clicks_exp=experiment['Clicks'].sum()\n",
    "clicks_total=clicks_cont+clicks_exp\n",
    "\n",
    "p_hat=round(clicks_cont/clicks_total,4)\n",
    "sd=mt.sqrt(p*(1-p)/clicks_total)\n",
    "ME=round(get_z_score(1-(alpha/2))*sd,4)\n",
    "print (\"The confidence interval is between\",p-ME,\"and\",p+ME,\"; Is\",p_hat,\"inside this range?\")"
   ]
  },
  {
   "cell_type": "code",
   "execution_count": 17,
   "metadata": {},
   "outputs": [
    {
     "name": "stdout",
     "output_type": "stream",
     "text": [
      "The confidence interval is between -0.0012 and 0.0012 ; Is 0.0001 within this range?\n"
     ]
    }
   ],
   "source": [
    "ctp_cont=clicks_cont/pageviews_cont\n",
    "ctp_exp=clicks_exp/pageviews_exp\n",
    "d_hat=round(ctp_exp-ctp_cont,4)\n",
    "p_pooled=clicks_total/pageviews_total\n",
    "sd_pooled=mt.sqrt(p_pooled*(1-p_pooled)*(1/pageviews_cont+1/pageviews_exp))\n",
    "ME=round(get_z_score(1-(alpha/2))*sd_pooled,4)\n",
    "print (\"The confidence interval is between\",0-ME,\"and\",0+ME,\"; Is\",d_hat,\"within this range?\")"
   ]
  },
  {
   "cell_type": "markdown",
   "metadata": {},
   "source": [
    "> Sanity Checks succeed !"
   ]
  },
  {
   "cell_type": "markdown",
   "metadata": {},
   "source": [
    "### CI cases from courses on udacity\n",
    "![](img/7.png)"
   ]
  },
  {
   "cell_type": "code",
   "execution_count": 18,
   "metadata": {},
   "outputs": [],
   "source": [
    "# Count the total clicks from complete records only\n",
    "clicks_cont=control[\"Clicks\"].loc[control[\"Enrollments\"].notnull()].sum()\n",
    "clicks_exp=experiment[\"Clicks\"].loc[experiment[\"Enrollments\"].notnull()].sum()"
   ]
  },
  {
   "cell_type": "code",
   "execution_count": 19,
   "metadata": {},
   "outputs": [
    {
     "name": "stdout",
     "output_type": "stream",
     "text": [
      "The change due to the experiment is -1.39 %\n",
      "Confidence Interval: [ -0.022699999999999998 , -0.005099999999999999 ]\n",
      "The change is statistically significant if the CI doesn't include 0. In that case, it is practically significant if -0.01 is not in the CI as well.\n"
     ]
    }
   ],
   "source": [
    "#Gross Conversion - number of enrollments divided by number of clicks\n",
    "enrollments_cont=control[\"Enrollments\"].sum()\n",
    "enrollments_exp=experiment[\"Enrollments\"].sum()\n",
    "\n",
    "GC_cont=enrollments_cont/clicks_cont\n",
    "GC_exp=enrollments_exp/clicks_exp\n",
    "GC_pooled=(enrollments_cont+enrollments_exp)/(clicks_cont+clicks_exp)\n",
    "GC_sd_pooled=mt.sqrt(GC_pooled*(1-GC_pooled)*(1/clicks_cont+1/clicks_exp))\n",
    "GC_ME=round(get_z_score(1-alpha/2)*GC_sd_pooled,4)\n",
    "GC_diff=round(GC_exp-GC_cont,4)\n",
    "print(\"The change due to the experiment is\",GC_diff*100,\"%\")\n",
    "print(\"Confidence Interval: [\",GC_diff-GC_ME,\",\",GC_diff+GC_ME,\"]\")\n",
    "print (\"The change is statistically significant if the CI doesn't include 0. In that case, it is practically significant if\",-GC_INFO[\"d_min\"],\"is not in the CI as well.\")"
   ]
  },
  {
   "cell_type": "code",
   "execution_count": 20,
   "metadata": {},
   "outputs": [
    {
     "name": "stdout",
     "output_type": "stream",
     "text": [
      "The change due to the experiment is -1.53 %\n",
      "Confidence Interval: [ -0.022199999999999998 , -0.0084 ]\n",
      "The change is statistically significant if the CI doesn't include 0. In that case, it is practically significant if 0.0075 is not in the CI as well.\n"
     ]
    }
   ],
   "source": [
    "#Net Conversion - number of payments divided by number of clicks\n",
    "payments_cont=control[\"Payments\"].sum()\n",
    "payments_exp=experiment[\"Payments\"].sum()\n",
    "\n",
    "NC_cont=payments_cont/clicks_cont\n",
    "NC_exp=payments_exp/clicks_exp\n",
    "NC_pooled=(payments_cont+payments_exp)/(clicks_cont+clicks_exp)\n",
    "NC_sd_pooled=mt.sqrt(NC_pooled*(1-NC_pooled)*(1/clicks_cont+1/clicks_exp))\n",
    "NC_ME=round(get_z_score(1-alpha/2)*NC_sd_pooled,4)\n",
    "NC_diff=round(NC_exp-NC_cont,4)\n",
    "print(\"The change due to the experiment is\",NC_diff*100,\"%\")\n",
    "print(\"Confidence Interval: [\",NC_diff-NC_ME,\",\",NC_diff+NC_ME,\"]\")\n",
    "print (\"The change is statistically significant if the CI doesn't include 0. In that case, it is practically significant if\",NC_INFO[\"d_min\"],\"is not in the CI as well.\")"
   ]
  },
  {
   "cell_type": "code",
   "execution_count": null,
   "metadata": {},
   "outputs": [],
   "source": []
  },
  {
   "cell_type": "markdown",
   "metadata": {},
   "source": [
    "According to this result there was a change due to the experiment, that change was both statistically and practically significant. \n",
    "\n",
    "\n",
    "* **Gross Conversion**\n",
    "A metric is statistically significant if the confidence interval does not include 0 (that is, you can be confident there was a change), and it is practically significant if the confidence interval does not include the practical significance boundary (that is, you can be confident there is a change that matters to the business.)\n",
    "\n",
    "We have a **negative** change of **1.39%**, when we were willing to accept any change greater than 1%. This means the Gross Conversion rate of the experiment group (the one exposed to the change, i.e. asked how many hours they can devote to studying) has decreased as expected by 2% and this change was significant. This means  less people enrolled in the quick view button.\n",
    "* **Net Conversion** \n",
    "The hypothesis is the same as before just with net conversion instead of gross. At this point we expect the fraction of payers (out of the clicks) to decrease as well.\n",
    "In this case we got a change size of more than a 0.5%, a bit lot decrease which is  statistically significant, and as such  practically significant.\n"
   ]
  },
  {
   "cell_type": "markdown",
   "metadata": {},
   "source": [
    "### Summary && Recommendation\n",
    "\n",
    "An experiment was conducted in which potential Udacity students were diverted by cookie into two groups, experiment and control. The experiment group was shown more sku infomaition, after clicking a \"**quick view button**\" on shop list page view, whereas the control group was not. Three invariant metrics (Number of Cookies, Number of clicks on \"quick view button\", and Click-Through-Probability) were chosen for purposes of validation and sanity checking while Gross Conversion (enrollment/cookie) and Net Conversion (payments/cookie) served as evaluation metrics. \n",
    "The null hypothesis is that there is no difference in the evaluation metrics between the groups, futhermore, a practical signifcance threshold was set for each metric. The requirement for launching the experiment is that the null hypothesis must be rejected for ALL evaluation metrics and that the difference between branches must meet or exceed the practical signficance threshold. In our case in which ALL metrics must be relevant to launch, the risk of type II errors (false negatives) increases as the number of metrics increases, so it stands to reason that controlling for false positives is not consistent with our acceptance criteria.\n",
    "\n",
    "**Analysis revealed the expected equal distribution of cookies into the control and experimental groups, for the invariant metrics, at the 95% CI. A difference in gross conversion was found to be statistically signficant at the 95% CI, and the null hypothesis was rejected. Gross conversion also met the practical signficance threshold. Net Conversion was found to be either statistically or practically signficant at the 95% CI.**\n",
    "\n",
    "\n",
    "This experiment was designed to determine whether show more info at the shop list page  would improve the overall user experience and promote completion of consumption. A statistically and practically signficant decrease in Gross Conversion was observed but with negative significant differences in Net Conversion. This translates to a decrease in enrollment and payment. **Considering this, my recomendation is not to launch, but rather to pursue other experiments.**"
   ]
  },
  {
   "cell_type": "code",
   "execution_count": null,
   "metadata": {},
   "outputs": [],
   "source": []
  },
  {
   "cell_type": "code",
   "execution_count": null,
   "metadata": {},
   "outputs": [],
   "source": []
  }
 ],
 "metadata": {
  "kernelspec": {
   "display_name": "Python 3",
   "language": "python",
   "name": "python3"
  },
  "language_info": {
   "codemirror_mode": {
    "name": "ipython",
    "version": 3
   },
   "file_extension": ".py",
   "mimetype": "text/x-python",
   "name": "python",
   "nbconvert_exporter": "python",
   "pygments_lexer": "ipython3",
   "version": "3.7.4"
  },
  "pycharm": {
   "stem_cell": {
    "cell_type": "raw",
    "metadata": {
     "collapsed": false
    },
    "source": []
   }
  }
 },
 "nbformat": 4,
 "nbformat_minor": 4
}
